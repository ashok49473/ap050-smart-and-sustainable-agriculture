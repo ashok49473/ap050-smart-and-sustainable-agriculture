{
 "cells": [
  {
   "cell_type": "code",
   "execution_count": 3,
   "id": "b9918518",
   "metadata": {},
   "outputs": [],
   "source": [
    "import tensorflow as tf"
   ]
  },
  {
   "cell_type": "code",
   "execution_count": 10,
   "id": "da5d0cfc",
   "metadata": {},
   "outputs": [],
   "source": [
    "from tensorflow.keras.models import load_model\n",
    "import numpy as np"
   ]
  },
  {
   "cell_type": "code",
   "execution_count": 7,
   "id": "64e7f7bb",
   "metadata": {},
   "outputs": [],
   "source": [
    "img_height, img_width = 128, 128\n",
    "sunflower_path='test2.jpg'"
   ]
  },
  {
   "cell_type": "code",
   "execution_count": 5,
   "id": "d00e0cdd",
   "metadata": {},
   "outputs": [],
   "source": [
    "model = load_model('models/bell_pepper.h5')"
   ]
  },
  {
   "cell_type": "code",
   "execution_count": 12,
   "id": "0bd44c5f",
   "metadata": {},
   "outputs": [
    {
     "name": "stdout",
     "output_type": "stream",
     "text": [
      "This image most likely belongs to aaaaaaaa with a 69.53 percent confidence.\n"
     ]
    }
   ],
   "source": [
    "img = tf.keras.utils.load_img(sunflower_path, target_size=(img_height, img_width))\n",
    "class_names = ['aaaaaaaa', 'bbbbbbbbbbb']\n",
    "img_array = tf.keras.utils.img_to_array(img)\n",
    "img_array = tf.expand_dims(img_array, 0) # Create a batch\n",
    "\n",
    "predictions = model.predict(img_array)\n",
    "score = tf.nn.softmax(predictions[0])\n",
    "\n",
    "print( \"This image most likely belongs to {} with a {:.2f} percent confidence.\"\n",
    "    .format(class_names[np.argmax(score)], 100 * np.max(score))\n",
    ")"
   ]
  },
  {
   "cell_type": "code",
   "execution_count": 14,
   "id": "f76ed521",
   "metadata": {},
   "outputs": [
    {
     "name": "stdout",
     "output_type": "stream",
     "text": [
      "<PIL.PngImagePlugin.PngImageFile image mode=RGBA size=300x300 at 0x234C121E6A0>\n"
     ]
    }
   ],
   "source": [
    "from PIL import Image\n",
    "with Image.open(\"test2.jpg\") as im:\n",
    "    print(im)"
   ]
  },
  {
   "cell_type": "code",
   "execution_count": 38,
   "id": "0c11dde0",
   "metadata": {},
   "outputs": [],
   "source": [
    "from PIL import Image\n",
    "import numpy as np\n",
    "\n",
    "png = Image.open('test2.jpg').convert('RGBA')\n",
    "background = Image.new('RGBA', png.size, (255,255,255))\n",
    "\n",
    "alpha_composite = Image.alpha_composite(background, png)\n",
    "alpha_composite_3 = alpha_composite.convert('RGB')\n",
    "qq = alpha_composite_3.resize((180, 180))\n",
    "img = np.asarray(qq)"
   ]
  },
  {
   "cell_type": "code",
   "execution_count": 39,
   "id": "435b22a8",
   "metadata": {},
   "outputs": [
    {
     "data": {
      "text/plain": [
       "(1, 180, 180, 3)"
      ]
     },
     "execution_count": 39,
     "metadata": {},
     "output_type": "execute_result"
    }
   ],
   "source": [
    "np.expand_dims(img, axis=0).shape"
   ]
  },
  {
   "cell_type": "code",
   "execution_count": 25,
   "id": "9a35371e",
   "metadata": {},
   "outputs": [
    {
     "data": {
      "text/plain": [
       "3"
      ]
     },
     "execution_count": 25,
     "metadata": {},
     "output_type": "execute_result"
    }
   ],
   "source": [
    "channel"
   ]
  },
  {
   "cell_type": "code",
   "execution_count": null,
   "id": "ffc8a69e",
   "metadata": {},
   "outputs": [],
   "source": []
  },
  {
   "cell_type": "code",
   "execution_count": null,
   "id": "8e1bd3df",
   "metadata": {},
   "outputs": [],
   "source": []
  },
  {
   "cell_type": "code",
   "execution_count": null,
   "id": "73c7f8a5",
   "metadata": {},
   "outputs": [],
   "source": []
  }
 ],
 "metadata": {
  "kernelspec": {
   "display_name": "Python 3 (ipykernel)",
   "language": "python",
   "name": "python3"
  },
  "language_info": {
   "codemirror_mode": {
    "name": "ipython",
    "version": 3
   },
   "file_extension": ".py",
   "mimetype": "text/x-python",
   "name": "python",
   "nbconvert_exporter": "python",
   "pygments_lexer": "ipython3",
   "version": "3.7.0"
  }
 },
 "nbformat": 4,
 "nbformat_minor": 5
}
