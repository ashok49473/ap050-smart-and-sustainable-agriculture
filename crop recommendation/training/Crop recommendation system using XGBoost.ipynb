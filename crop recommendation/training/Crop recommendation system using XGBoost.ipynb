{
 "cells": [
  {
   "cell_type": "code",
   "execution_count": 1,
   "id": "671a039b",
   "metadata": {},
   "outputs": [],
   "source": [
    "import pandas as pd\n",
    "import numpy as np\n",
    "import matplotlib.pylab as plt\n",
    "import seaborn as sns\n",
    "import xgboost as xgb\n",
    "\n",
    "from sklearn.metrics import classification_report, confusion_matrix\n",
    "from sklearn.model_selection import train_test_split\n",
    "from IPython.core.interactiveshell import InteractiveShell\n",
    "InteractiveShell.ast_node_interactivity = \"all\""
   ]
  },
  {
   "cell_type": "code",
   "execution_count": 2,
   "id": "a5b3c16d",
   "metadata": {},
   "outputs": [],
   "source": [
    "data = pd.read_csv('data/Crop_recommendation.csv')\n",
    "\n",
    "labels = ['rice', 'blackgram', 'maize', 'watermelon', 'jute', 'cotton']\n",
    "\n",
    "rice = data.loc[data.label == 'rice']\n",
    "blackgram = data.loc[data.label == 'blackgram']\n",
    "maize = data.loc[data.label == 'maize']\n",
    "watermelon = data.loc[data.label == 'watermelon']\n",
    "jute = data.loc[data.label == 'jute']\n",
    "cotton = data.loc[data.label == 'cotton']\n",
    "df = pd.concat([rice, blackgram, maize, watermelon, jute, cotton])"
   ]
  },
  {
   "cell_type": "code",
   "execution_count": 3,
   "id": "c6cd6696",
   "metadata": {},
   "outputs": [
    {
     "data": {
      "text/html": [
       "<div>\n",
       "<style scoped>\n",
       "    .dataframe tbody tr th:only-of-type {\n",
       "        vertical-align: middle;\n",
       "    }\n",
       "\n",
       "    .dataframe tbody tr th {\n",
       "        vertical-align: top;\n",
       "    }\n",
       "\n",
       "    .dataframe thead th {\n",
       "        text-align: right;\n",
       "    }\n",
       "</style>\n",
       "<table border=\"1\" class=\"dataframe\">\n",
       "  <thead>\n",
       "    <tr style=\"text-align: right;\">\n",
       "      <th></th>\n",
       "      <th>N</th>\n",
       "      <th>P</th>\n",
       "      <th>K</th>\n",
       "      <th>temperature</th>\n",
       "      <th>humidity</th>\n",
       "      <th>ph</th>\n",
       "      <th>rainfall</th>\n",
       "      <th>label</th>\n",
       "    </tr>\n",
       "  </thead>\n",
       "  <tbody>\n",
       "    <tr>\n",
       "      <th>1397</th>\n",
       "      <td>96</td>\n",
       "      <td>18</td>\n",
       "      <td>50</td>\n",
       "      <td>25.331045</td>\n",
       "      <td>84.305338</td>\n",
       "      <td>6.904242</td>\n",
       "      <td>41.532187</td>\n",
       "      <td>watermelon</td>\n",
       "    </tr>\n",
       "    <tr>\n",
       "      <th>10</th>\n",
       "      <td>91</td>\n",
       "      <td>53</td>\n",
       "      <td>40</td>\n",
       "      <td>26.527235</td>\n",
       "      <td>81.417538</td>\n",
       "      <td>5.386168</td>\n",
       "      <td>264.614870</td>\n",
       "      <td>rice</td>\n",
       "    </tr>\n",
       "    <tr>\n",
       "      <th>113</th>\n",
       "      <td>92</td>\n",
       "      <td>44</td>\n",
       "      <td>16</td>\n",
       "      <td>18.877514</td>\n",
       "      <td>65.768161</td>\n",
       "      <td>6.082974</td>\n",
       "      <td>94.761894</td>\n",
       "      <td>maize</td>\n",
       "    </tr>\n",
       "    <tr>\n",
       "      <th>1309</th>\n",
       "      <td>118</td>\n",
       "      <td>13</td>\n",
       "      <td>54</td>\n",
       "      <td>24.413119</td>\n",
       "      <td>89.815740</td>\n",
       "      <td>6.039585</td>\n",
       "      <td>44.078435</td>\n",
       "      <td>watermelon</td>\n",
       "    </tr>\n",
       "    <tr>\n",
       "      <th>1919</th>\n",
       "      <td>117</td>\n",
       "      <td>56</td>\n",
       "      <td>15</td>\n",
       "      <td>25.992374</td>\n",
       "      <td>77.054355</td>\n",
       "      <td>7.368258</td>\n",
       "      <td>89.118821</td>\n",
       "      <td>cotton</td>\n",
       "    </tr>\n",
       "    <tr>\n",
       "      <th>1900</th>\n",
       "      <td>133</td>\n",
       "      <td>47</td>\n",
       "      <td>24</td>\n",
       "      <td>24.402289</td>\n",
       "      <td>79.197320</td>\n",
       "      <td>7.231325</td>\n",
       "      <td>90.802236</td>\n",
       "      <td>cotton</td>\n",
       "    </tr>\n",
       "    <tr>\n",
       "      <th>1910</th>\n",
       "      <td>107</td>\n",
       "      <td>45</td>\n",
       "      <td>25</td>\n",
       "      <td>23.086593</td>\n",
       "      <td>83.555461</td>\n",
       "      <td>7.227746</td>\n",
       "      <td>71.840807</td>\n",
       "      <td>cotton</td>\n",
       "    </tr>\n",
       "    <tr>\n",
       "      <th>1948</th>\n",
       "      <td>122</td>\n",
       "      <td>40</td>\n",
       "      <td>17</td>\n",
       "      <td>24.964408</td>\n",
       "      <td>81.316776</td>\n",
       "      <td>6.854559</td>\n",
       "      <td>80.039958</td>\n",
       "      <td>cotton</td>\n",
       "    </tr>\n",
       "    <tr>\n",
       "      <th>1312</th>\n",
       "      <td>101</td>\n",
       "      <td>10</td>\n",
       "      <td>47</td>\n",
       "      <td>25.542169</td>\n",
       "      <td>83.318834</td>\n",
       "      <td>6.936998</td>\n",
       "      <td>57.573432</td>\n",
       "      <td>watermelon</td>\n",
       "    </tr>\n",
       "    <tr>\n",
       "      <th>174</th>\n",
       "      <td>76</td>\n",
       "      <td>39</td>\n",
       "      <td>24</td>\n",
       "      <td>24.254745</td>\n",
       "      <td>55.647099</td>\n",
       "      <td>6.995844</td>\n",
       "      <td>64.238455</td>\n",
       "      <td>maize</td>\n",
       "    </tr>\n",
       "  </tbody>\n",
       "</table>\n",
       "</div>"
      ],
      "text/plain": [
       "        N   P   K  temperature   humidity        ph    rainfall       label\n",
       "1397   96  18  50    25.331045  84.305338  6.904242   41.532187  watermelon\n",
       "10     91  53  40    26.527235  81.417538  5.386168  264.614870        rice\n",
       "113    92  44  16    18.877514  65.768161  6.082974   94.761894       maize\n",
       "1309  118  13  54    24.413119  89.815740  6.039585   44.078435  watermelon\n",
       "1919  117  56  15    25.992374  77.054355  7.368258   89.118821      cotton\n",
       "1900  133  47  24    24.402289  79.197320  7.231325   90.802236      cotton\n",
       "1910  107  45  25    23.086593  83.555461  7.227746   71.840807      cotton\n",
       "1948  122  40  17    24.964408  81.316776  6.854559   80.039958      cotton\n",
       "1312  101  10  47    25.542169  83.318834  6.936998   57.573432  watermelon\n",
       "174    76  39  24    24.254745  55.647099  6.995844   64.238455       maize"
      ]
     },
     "execution_count": 3,
     "metadata": {},
     "output_type": "execute_result"
    }
   ],
   "source": [
    "df.sample(10)"
   ]
  },
  {
   "cell_type": "code",
   "execution_count": 4,
   "id": "dca81361",
   "metadata": {},
   "outputs": [],
   "source": [
    "df.drop(labels=['rainfall'], axis=1, inplace=True)"
   ]
  },
  {
   "cell_type": "code",
   "execution_count": 5,
   "id": "b97a4d84",
   "metadata": {},
   "outputs": [
    {
     "data": {
      "text/html": [
       "<div>\n",
       "<style scoped>\n",
       "    .dataframe tbody tr th:only-of-type {\n",
       "        vertical-align: middle;\n",
       "    }\n",
       "\n",
       "    .dataframe tbody tr th {\n",
       "        vertical-align: top;\n",
       "    }\n",
       "\n",
       "    .dataframe thead th {\n",
       "        text-align: right;\n",
       "    }\n",
       "</style>\n",
       "<table border=\"1\" class=\"dataframe\">\n",
       "  <thead>\n",
       "    <tr style=\"text-align: right;\">\n",
       "      <th></th>\n",
       "      <th>N</th>\n",
       "      <th>P</th>\n",
       "      <th>K</th>\n",
       "      <th>temperature</th>\n",
       "      <th>humidity</th>\n",
       "      <th>ph</th>\n",
       "      <th>label</th>\n",
       "    </tr>\n",
       "  </thead>\n",
       "  <tbody>\n",
       "    <tr>\n",
       "      <th>0</th>\n",
       "      <td>90</td>\n",
       "      <td>42</td>\n",
       "      <td>43</td>\n",
       "      <td>20.879744</td>\n",
       "      <td>82.002744</td>\n",
       "      <td>6.502985</td>\n",
       "      <td>rice</td>\n",
       "    </tr>\n",
       "    <tr>\n",
       "      <th>1</th>\n",
       "      <td>85</td>\n",
       "      <td>58</td>\n",
       "      <td>41</td>\n",
       "      <td>21.770462</td>\n",
       "      <td>80.319644</td>\n",
       "      <td>7.038096</td>\n",
       "      <td>rice</td>\n",
       "    </tr>\n",
       "    <tr>\n",
       "      <th>2</th>\n",
       "      <td>60</td>\n",
       "      <td>55</td>\n",
       "      <td>44</td>\n",
       "      <td>23.004459</td>\n",
       "      <td>82.320763</td>\n",
       "      <td>7.840207</td>\n",
       "      <td>rice</td>\n",
       "    </tr>\n",
       "    <tr>\n",
       "      <th>3</th>\n",
       "      <td>74</td>\n",
       "      <td>35</td>\n",
       "      <td>40</td>\n",
       "      <td>26.491096</td>\n",
       "      <td>80.158363</td>\n",
       "      <td>6.980401</td>\n",
       "      <td>rice</td>\n",
       "    </tr>\n",
       "    <tr>\n",
       "      <th>4</th>\n",
       "      <td>78</td>\n",
       "      <td>42</td>\n",
       "      <td>42</td>\n",
       "      <td>20.130175</td>\n",
       "      <td>81.604873</td>\n",
       "      <td>7.628473</td>\n",
       "      <td>rice</td>\n",
       "    </tr>\n",
       "  </tbody>\n",
       "</table>\n",
       "</div>"
      ],
      "text/plain": [
       "    N   P   K  temperature   humidity        ph label\n",
       "0  90  42  43    20.879744  82.002744  6.502985  rice\n",
       "1  85  58  41    21.770462  80.319644  7.038096  rice\n",
       "2  60  55  44    23.004459  82.320763  7.840207  rice\n",
       "3  74  35  40    26.491096  80.158363  6.980401  rice\n",
       "4  78  42  42    20.130175  81.604873  7.628473  rice"
      ]
     },
     "execution_count": 5,
     "metadata": {},
     "output_type": "execute_result"
    }
   ],
   "source": [
    "df.head()"
   ]
  },
  {
   "cell_type": "code",
   "execution_count": 6,
   "id": "97f110c0",
   "metadata": {},
   "outputs": [
    {
     "name": "stdout",
     "output_type": "stream",
     "text": [
      "['N', 'P', 'K', 'temperature', 'humidity', 'ph']\n",
      "label\n"
     ]
    }
   ],
   "source": [
    "features = [col for col in df.columns if col not in ['label']]\n",
    "\n",
    "print(features)\n",
    "target = 'label'\n",
    "print(target)\n",
    "\n",
    "X = df[features]\n",
    "y = df[target]\n",
    "\n",
    "X_train, X_test, y_train, y_test = train_test_split(X, y, test_size=0.2, random_state=42, stratify=y)"
   ]
  },
  {
   "cell_type": "code",
   "execution_count": 7,
   "id": "a5d383ea",
   "metadata": {},
   "outputs": [
    {
     "data": {
      "text/plain": [
       "((480, 6), (480,), (120, 6), (120,))"
      ]
     },
     "execution_count": 7,
     "metadata": {},
     "output_type": "execute_result"
    }
   ],
   "source": [
    "X_train.shape, y_train.shape, X_test.shape, y_test.shape, "
   ]
  },
  {
   "cell_type": "code",
   "execution_count": 8,
   "id": "32283744",
   "metadata": {},
   "outputs": [],
   "source": [
    "from sklearn.preprocessing import LabelEncoder\n",
    "encoder = LabelEncoder()\n",
    "\n",
    "y_train_ = encoder.fit_transform(y_train)\n",
    "y_test_ = encoder.transform(y_test)"
   ]
  },
  {
   "cell_type": "code",
   "execution_count": 9,
   "id": "af4ffd65",
   "metadata": {},
   "outputs": [
    {
     "data": {
      "text/plain": [
       "array(['blackgram', 'cotton', 'jute', 'maize', 'rice', 'watermelon'],\n",
       "      dtype=object)"
      ]
     },
     "execution_count": 9,
     "metadata": {},
     "output_type": "execute_result"
    }
   ],
   "source": [
    "encoder.classes_"
   ]
  },
  {
   "cell_type": "code",
   "execution_count": 14,
   "id": "125ed8a3",
   "metadata": {},
   "outputs": [],
   "source": [
    "model = xgb.XGBClassifier(random_state=1,use_label_encoder=False)"
   ]
  },
  {
   "cell_type": "code",
   "execution_count": 15,
   "id": "378dc222",
   "metadata": {},
   "outputs": [
    {
     "data": {
      "text/plain": [
       "XGBClassifier(base_score=0.5, booster='gbtree', colsample_bylevel=1,\n",
       "              colsample_bynode=1, colsample_bytree=1, gamma=0, gpu_id=-1,\n",
       "              importance_type='gain', interaction_constraints='',\n",
       "              learning_rate=0.300000012, max_delta_step=0, max_depth=6,\n",
       "              min_child_weight=1, missing=nan, monotone_constraints='()',\n",
       "              n_estimators=100, n_jobs=4, num_parallel_tree=1,\n",
       "              objective='multi:softprob', random_state=1, reg_alpha=0,\n",
       "              reg_lambda=1, scale_pos_weight=None, subsample=1,\n",
       "              tree_method='exact', use_label_encoder=False,\n",
       "              validate_parameters=1, verbosity=None)"
      ]
     },
     "execution_count": 15,
     "metadata": {},
     "output_type": "execute_result"
    }
   ],
   "source": [
    "model.fit(X_train, y_train_, eval_metric='mlogloss',)"
   ]
  },
  {
   "cell_type": "code",
   "execution_count": 16,
   "id": "cccec220",
   "metadata": {},
   "outputs": [],
   "source": [
    "y_train_preds = model.predict(X_train)"
   ]
  },
  {
   "cell_type": "code",
   "execution_count": 17,
   "id": "6d804d96",
   "metadata": {},
   "outputs": [],
   "source": [
    "from sklearn import metrics"
   ]
  },
  {
   "cell_type": "code",
   "execution_count": 18,
   "id": "08766cbe",
   "metadata": {},
   "outputs": [
    {
     "data": {
      "text/plain": [
       "1.0"
      ]
     },
     "execution_count": 18,
     "metadata": {},
     "output_type": "execute_result"
    }
   ],
   "source": [
    "metrics.accuracy_score(y_train_, y_train_preds)"
   ]
  },
  {
   "cell_type": "code",
   "execution_count": 19,
   "id": "9160d45f",
   "metadata": {},
   "outputs": [
    {
     "data": {
      "text/plain": [
       "0.9583333333333334"
      ]
     },
     "execution_count": 19,
     "metadata": {},
     "output_type": "execute_result"
    }
   ],
   "source": [
    "y_test_preds = model.predict(X_test)\n",
    "metrics.accuracy_score(y_test_, y_test_preds)"
   ]
  },
  {
   "cell_type": "code",
   "execution_count": 49,
   "id": "143278bc",
   "metadata": {},
   "outputs": [
    {
     "data": {
      "text/plain": [
       "<Figure size 504x504 with 0 Axes>"
      ]
     },
     "execution_count": 49,
     "metadata": {},
     "output_type": "execute_result"
    },
    {
     "data": {
      "image/png": "[encoded data removed]",
      "text/plain": [
       "<Figure size 504x504 with 1 Axes>"
      ]
     },
     "metadata": {
      "needs_background": "light"
     },
     "output_type": "display_data"
    }
   ],
   "source": [
    "cm = metrics.confusion_matrix(y_test_, y_test_preds)\n",
    "plt.figure(figsize=(7, 7))\n",
    "_ = sns.heatmap(cm, annot=True, cbar=False, cmap='viridis')\n",
    "_ = plt.xticks([i+0.3 for i in range(6)], encoder.classes_, rotation=0)\n",
    "_ = plt.yticks([i+0.4 for i in range(6)], encoder.classes_, rotation=0)\n",
    "_ = plt.xlabel(\"Predicted crop\", fontsize=15)\n",
    "_ = plt.ylabel(\"Actual crop\", fontsize=15)"
   ]
  },
  {
   "cell_type": "code",
   "execution_count": 43,
   "id": "1fa48e0d",
   "metadata": {},
   "outputs": [
    {
     "name": "stdout",
     "output_type": "stream",
     "text": [
      "              precision    recall  f1-score   support\n",
      "\n",
      "           0       1.00      1.00      1.00        20\n",
      "           1       1.00      1.00      1.00        20\n",
      "           2       0.94      0.80      0.86        20\n",
      "           3       1.00      1.00      1.00        20\n",
      "           4       0.83      0.95      0.88        20\n",
      "           5       1.00      1.00      1.00        20\n",
      "\n",
      "    accuracy                           0.96       120\n",
      "   macro avg       0.96      0.96      0.96       120\n",
      "weighted avg       0.96      0.96      0.96       120\n",
      "\n"
     ]
    }
   ],
   "source": [
    "print(metrics.classification_report(y_test_, y_test_preds))"
   ]
  },
  {
   "cell_type": "code",
   "execution_count": null,
   "id": "dc59daea",
   "metadata": {},
   "outputs": [],
   "source": [
    "import pickle"
   ]
  },
  {
   "cell_type": "code",
   "execution_count": null,
   "id": "43698b30",
   "metadata": {},
   "outputs": [],
   "source": [
    "X_train.iloc[0].tolist()"
   ]
  },
  {
   "cell_type": "code",
   "execution_count": null,
   "id": "d02a56fa",
   "metadata": {},
   "outputs": [],
   "source": [
    "X_train.columns"
   ]
  },
  {
   "cell_type": "raw",
   "id": "45dfafec",
   "metadata": {},
   "source": [
    "out = encoder.inverse_transform(model.predict(np.array(x).reshape(1, -1)))[0]"
   ]
  },
  {
   "cell_type": "code",
   "execution_count": null,
   "id": "19868539",
   "metadata": {},
   "outputs": [],
   "source": [
    "def class_predict(x):\n",
    "    out = encoder.inverse_transform(model.predict(np.array(x).reshape(1, -1)))[0]\n",
    "    return out"
   ]
  },
  {
   "cell_type": "code",
   "execution_count": null,
   "id": "8292a918",
   "metadata": {},
   "outputs": [],
   "source": [
    "['N', 'P', 'K', 'temperature', 'humidity', 'ph']\n",
    "\n",
    "class_predict([35.0, 72.0, 21.0, 34.03619494, 64.28791388, 7.741418772])"
   ]
  },
  {
   "cell_type": "code",
   "execution_count": null,
   "id": "dce9138e",
   "metadata": {},
   "outputs": [],
   "source": [
    "encoder.inverse_transform([y_train_[0]])"
   ]
  },
  {
   "cell_type": "code",
   "execution_count": null,
   "id": "86f6e15a",
   "metadata": {},
   "outputs": [],
   "source": [
    "with open('crop_recommendation_model.pkl', 'wb') as f:\n",
    "    pickle.dump(model, f)"
   ]
  },
  {
   "cell_type": "code",
   "execution_count": null,
   "id": "92fc66e3",
   "metadata": {},
   "outputs": [],
   "source": [
    "dict(zip(['N', 'P', 'K', 'temperature', 'humidity', 'ph'],[35.0, 72.0, 21.0, 34.03619494, 64.28791388, 7.741418772] ))"
   ]
  },
  {
   "cell_type": "code",
   "execution_count": null,
   "id": "69160e72",
   "metadata": {},
   "outputs": [],
   "source": []
  }
 ],
 "metadata": {
  "kernelspec": {
   "display_name": "Python 3 (ipykernel)",
   "language": "python",
   "name": "python3"
  },
  "language_info": {
   "codemirror_mode": {
    "name": "ipython",
    "version": 3
   },
   "file_extension": ".py",
   "mimetype": "text/x-python",
   "name": "python",
   "nbconvert_exporter": "python",
   "pygments_lexer": "ipython3",
   "version": "3.8.3"
  }
 },
 "nbformat": 4,
 "nbformat_minor": 5
}
