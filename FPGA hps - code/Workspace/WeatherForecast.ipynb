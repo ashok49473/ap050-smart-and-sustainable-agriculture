{
 "cells": [
  {
   "cell_type": "code",
   "execution_count": 3,
   "id": "cf151df1",
   "metadata": {},
   "outputs": [],
   "source": [
    "import requests"
   ]
  },
  {
   "cell_type": "code",
   "execution_count": 10,
   "id": "9165db3b",
   "metadata": {},
   "outputs": [],
   "source": [
    "api_key = \"d6391e94e3f1ffbcb7682918e5a0d1ab\"\n",
    "\n",
    "city_name = \"nuzvid\""
   ]
  },
  {
   "cell_type": "code",
   "execution_count": 12,
   "id": "507e2fec",
   "metadata": {},
   "outputs": [
    {
     "name": "stdout",
     "output_type": "stream",
     "text": [
      "https://api.openweathermap.org/data/2.5/weather?q=nuzvid&appid=d6391e94e3f1ffbcb7682918e5a0d1ab&units=metric\n"
     ]
    }
   ],
   "source": [
    "url = f\"https://api.openweathermap.org/data/2.5/weather?q={city_name}&appid={api_key}&units=metric\"\n",
    "print(str(url))"
   ]
  },
  {
   "cell_type": "code",
   "execution_count": 17,
   "id": "78b5e415",
   "metadata": {},
   "outputs": [],
   "source": [
    "data1 = requests.get(url)"
   ]
  },
  {
   "cell_type": "code",
   "execution_count": 18,
   "id": "5a4740d3",
   "metadata": {},
   "outputs": [
    {
     "name": "stdout",
     "output_type": "stream",
     "text": [
      "Nūzvīd 16.7833 80.85\n"
     ]
    }
   ],
   "source": [
    "data1=data1.json()\n",
    "\n",
    "name = data1[\"name\"]\n",
    "lon = data1[\"coord\"][\"lon\"]\n",
    "lat = data1[\"coord\"][\"lat\"]\n",
    "\n",
    "exclude = \"minute,hourly\"\n",
    "print(name, lat, lon)"
   ]
  },
  {
   "cell_type": "code",
   "execution_count": 26,
   "id": "ccd2e3fc",
   "metadata": {
    "scrolled": true
   },
   "outputs": [
    {
     "name": "stdout",
     "output_type": "stream",
     "text": [
      "https://api.openweathermap.org/data/2.5/onecall?lat=16.7833&lon=80.85&exclude=minute,hourly&appid=d6391e94e3f1ffbcb7682918e5a0d1ab&units=metric\n",
      "{'lat': 16.7833, 'lon': 80.85, 'timezone': 'Asia/Kolkata', 'timezone_offset': 19800, 'current': {'dt': 1650363808, 'sunrise': 1650327510, 'sunset': 1650372761, 'temp': 38.47, 'feels_like': 37.78, 'pressure': 1005, 'humidity': 22, 'dew_point': 12.99, 'uvi': 4.32, 'clouds': 3, 'visibility': 10000, 'wind_speed': 3.45, 'wind_deg': 135, 'wind_gust': 4.39, 'weather': [{'id': 800, 'main': 'Clear', 'description': 'clear sky', 'icon': '01d'}]}, 'minutely': [{'dt': 1650363840, 'precipitation': 0}, {'dt': 1650363900, 'precipitation': 0}, {'dt': 1650363960, 'precipitation': 0}, {'dt': 1650364020, 'precipitation': 0}, {'dt': 1650364080, 'precipitation': 0}, {'dt': 1650364140, 'precipitation': 0}, {'dt': 1650364200, 'precipitation': 0}, {'dt': 1650364260, 'precipitation': 0}, {'dt': 1650364320, 'precipitation': 0}, {'dt': 1650364380, 'precipitation': 0}, {'dt': 1650364440, 'precipitation': 0}, {'dt': 1650364500, 'precipitation': 0}, {'dt': 1650364560, 'precipitation': 0}, {'dt': 1650364620, 'precipitation': 0}, {'dt': 1650364680, 'precipitation': 0}, {'dt': 1650364740, 'precipitation': 0}, {'dt': 1650364800, 'precipitation': 0}, {'dt': 1650364860, 'precipitation': 0}, {'dt': 1650364920, 'precipitation': 0}, {'dt': 1650364980, 'precipitation': 0}, {'dt': 1650365040, 'precipitation': 0}, {'dt': 1650365100, 'precipitation': 0}, {'dt': 1650365160, 'precipitation': 0}, {'dt': 1650365220, 'precipitation': 0}, {'dt': 1650365280, 'precipitation': 0}, {'dt': 1650365340, 'precipitation': 0}, {'dt': 1650365400, 'precipitation': 0}, {'dt': 1650365460, 'precipitation': 0}, {'dt': 1650365520, 'precipitation': 0}, {'dt': 1650365580, 'precipitation': 0}, {'dt': 1650365640, 'precipitation': 0}, {'dt': 1650365700, 'precipitation': 0}, {'dt': 1650365760, 'precipitation': 0}, {'dt': 1650365820, 'precipitation': 0}, {'dt': 1650365880, 'precipitation': 0}, {'dt': 1650365940, 'precipitation': 0}, {'dt': 1650366000, 'precipitation': 0}, {'dt': 1650366060, 'precipitation': 0}, {'dt': 1650366120, 'precipitation': 0}, {'dt': 1650366180, 'precipitation': 0}, {'dt': 1650366240, 'precipitation': 0}, {'dt': 1650366300, 'precipitation': 0}, {'dt': 1650366360, 'precipitation': 0}, {'dt': 1650366420, 'precipitation': 0}, {'dt': 1650366480, 'precipitation': 0}, {'dt': 1650366540, 'precipitation': 0}, {'dt': 1650366600, 'precipitation': 0}, {'dt': 1650366660, 'precipitation': 0}, {'dt': 1650366720, 'precipitation': 0}, {'dt': 1650366780, 'precipitation': 0}, {'dt': 1650366840, 'precipitation': 0}, {'dt': 1650366900, 'precipitation': 0}, {'dt': 1650366960, 'precipitation': 0}, {'dt': 1650367020, 'precipitation': 0}, {'dt': 1650367080, 'precipitation': 0}, {'dt': 1650367140, 'precipitation': 0}, {'dt': 1650367200, 'precipitation': 0}, {'dt': 1650367260, 'precipitation': 0}, {'dt': 1650367320, 'precipitation': 0}, {'dt': 1650367380, 'precipitation': 0}, {'dt': 1650367440, 'precipitation': 0}], 'daily': [{'dt': 1650349800, 'sunrise': 1650327510, 'sunset': 1650372761, 'moonrise': 1650382800, 'moonset': 1650334320, 'moon_phase': 0.59, 'temp': {'day': 37.7, 'min': 27.16, 'max': 39.25, 'night': 29.35, 'eve': 37.91, 'morn': 27.16}, 'feels_like': {'day': 39.26, 'night': 32.53, 'eve': 38.64, 'morn': 30.31}, 'pressure': 1008, 'humidity': 31, 'dew_point': 17.68, 'wind_speed': 6.04, 'wind_deg': 170, 'wind_gust': 8.73, 'weather': [{'id': 800, 'main': 'Clear', 'description': 'clear sky', 'icon': '01d'}], 'clouds': 5, 'pop': 0, 'uvi': 12.91}, {'dt': 1650436200, 'sunrise': 1650413872, 'sunset': 1650459174, 'moonrise': 1650473160, 'moonset': 1650423900, 'moon_phase': 0.63, 'temp': {'day': 38.01, 'min': 27.45, 'max': 41.45, 'night': 28.46, 'eve': 36.3, 'morn': 27.45}, 'feels_like': {'day': 39.46, 'night': 31.9, 'eve': 39.04, 'morn': 30.77}, 'pressure': 1008, 'humidity': 30, 'dew_point': 17.9, 'wind_speed': 7.8, 'wind_deg': 147, 'wind_gust': 10.23, 'weather': [{'id': 802, 'main': 'Clouds', 'description': 'scattered clouds', 'icon': '03d'}], 'clouds': 37, 'pop': 0, 'uvi': 12.98}, {'dt': 1650522600, 'sunrise': 1650500233, 'sunset': 1650545588, 'moonrise': 1650563460, 'moonset': 1650513900, 'moon_phase': 0.67, 'temp': {'day': 37.18, 'min': 26.74, 'max': 39.87, 'night': 27.86, 'eve': 36.23, 'morn': 26.74}, 'feels_like': {'day': 39.69, 'night': 31.19, 'eve': 38.25, 'morn': 29.5}, 'pressure': 1007, 'humidity': 35, 'dew_point': 19.32, 'wind_speed': 6.87, 'wind_deg': 155, 'wind_gust': 10.55, 'weather': [{'id': 802, 'main': 'Clouds', 'description': 'scattered clouds', 'icon': '03d'}], 'clouds': 26, 'pop': 0, 'uvi': 12.93}, {'dt': 1650609000, 'sunrise': 1650586596, 'sunset': 1650632003, 'moonrise': 0, 'moonset': 1650604080, 'moon_phase': 0.71, 'temp': {'day': 37.01, 'min': 26.18, 'max': 39.97, 'night': 27.85, 'eve': 35.35, 'morn': 26.18}, 'feels_like': {'day': 38.69, 'night': 30.76, 'eve': 38.2, 'morn': 26.18}, 'pressure': 1008, 'humidity': 33, 'dew_point': 18.17, 'wind_speed': 7.19, 'wind_deg': 144, 'wind_gust': 8.95, 'weather': [{'id': 801, 'main': 'Clouds', 'description': 'few clouds', 'icon': '02d'}], 'clouds': 15, 'pop': 0, 'uvi': 12.96}, {'dt': 1650695400, 'sunrise': 1650672959, 'sunset': 1650718418, 'moonrise': 1650653460, 'moonset': 1650694320, 'moon_phase': 0.75, 'temp': {'day': 37.15, 'min': 26.46, 'max': 40.49, 'night': 28.54, 'eve': 36.82, 'morn': 26.46}, 'feels_like': {'day': 38.94, 'night': 31.59, 'eve': 39.35, 'morn': 26.46}, 'pressure': 1008, 'humidity': 33, 'dew_point': 18.38, 'wind_speed': 6.41, 'wind_deg': 142, 'wind_gust': 7.94, 'weather': [{'id': 800, 'main': 'Clear', 'description': 'clear sky', 'icon': '01d'}], 'clouds': 8, 'pop': 0, 'uvi': 13.1}, {'dt': 1650781800, 'sunrise': 1650759323, 'sunset': 1650804833, 'moonrise': 1650743220, 'moonset': 1650784440, 'moon_phase': 0.78, 'temp': {'day': 38.79, 'min': 26.81, 'max': 43.2, 'night': 29.83, 'eve': 39.04, 'morn': 26.81}, 'feels_like': {'day': 40.85, 'night': 32.51, 'eve': 41.31, 'morn': 29.75}, 'pressure': 1006, 'humidity': 30, 'dew_point': 18.32, 'wind_speed': 6.11, 'wind_deg': 150, 'wind_gust': 8.57, 'weather': [{'id': 802, 'main': 'Clouds', 'description': 'scattered clouds', 'icon': '03d'}], 'clouds': 39, 'pop': 0.01, 'uvi': 14}, {'dt': 1650868200, 'sunrise': 1650845687, 'sunset': 1650891248, 'moonrise': 1650832500, 'moonset': 1650874380, 'moon_phase': 0.81, 'temp': {'day': 40, 'min': 27.28, 'max': 42.51, 'night': 29.07, 'eve': 39.51, 'morn': 27.28}, 'feels_like': {'day': 41.86, 'night': 32.33, 'eve': 40.63, 'morn': 30.94}, 'pressure': 1005, 'humidity': 27, 'dew_point': 17.66, 'wind_speed': 6.36, 'wind_deg': 159, 'wind_gust': 9.44, 'weather': [{'id': 800, 'main': 'Clear', 'description': 'clear sky', 'icon': '01d'}], 'clouds': 10, 'pop': 0.01, 'uvi': 14}, {'dt': 1650954600, 'sunrise': 1650932053, 'sunset': 1650977664, 'moonrise': 1650921480, 'moonset': 1650964140, 'moon_phase': 0.85, 'temp': {'day': 39.78, 'min': 27.29, 'max': 43.25, 'night': 29.56, 'eve': 38.82, 'morn': 27.29}, 'feels_like': {'day': 41.47, 'night': 33.99, 'eve': 41.69, 'morn': 30.85}, 'pressure': 1005, 'humidity': 27, 'dew_point': 17.46, 'wind_speed': 5.82, 'wind_deg': 128, 'wind_gust': 9.5, 'weather': [{'id': 800, 'main': 'Clear', 'description': 'clear sky', 'icon': '01d'}], 'clouds': 7, 'pop': 0, 'uvi': 14}]}\n"
     ]
    }
   ],
   "source": [
    "url2 = f\"https://api.openweathermap.org/data/2.5/onecall?lat={lat}&lon={lon}&exclude={exclude}&appid={api_key}&units=metric\"\n",
    "print(str(url2))\n",
    "\n",
    "data2=requests.get(url2).json()\n",
    "print(data2)"
   ]
  },
  {
   "cell_type": "code",
   "execution_count": 29,
   "id": "ab86b237",
   "metadata": {},
   "outputs": [
    {
     "name": "stdout",
     "output_type": "stream",
     "text": [
      "[37.7, 38.01, 37.18, 37.01, 37.15, 38.79, 40, 39.78]\n",
      "[29.35, 28.46, 27.86, 27.85, 28.54, 29.83, 29.07, 29.56]\n",
      "['Clear: clear sky', 'Clouds: scattered clouds', 'Clouds: scattered clouds', 'Clouds: few clouds', 'Clear: clear sky', 'Clouds: scattered clouds', 'Clear: clear sky', 'Clear: clear sky']\n"
     ]
    }
   ],
   "source": [
    "days = []\n",
    "nights = []\n",
    "descr = []\n",
    "\n",
    "#We need to access 'daily'\n",
    "for i in data2['daily']:\n",
    "        \n",
    "        #We notice that the temperature is in Kelvin, so we need to do -273.15 for every datapoint\n",
    "        \n",
    "        #Let's start by days\n",
    "        #Let's round the decimal numbers to 2\n",
    "        days.append(round(i['temp']['day'],2))\n",
    "        \n",
    "        #Nights\n",
    "        nights.append(round(i['temp']['night'],2))\n",
    "        \n",
    "        #Let's now get the weather condition and the description\n",
    "        #'weather' [0] 'main' + 'weather' [0] 'description'\n",
    "        descr.append(i['weather'][0]['main'] + \": \" +i['weather'][0]['description'])\n",
    "\n",
    "print(days)\n",
    "print(nights)\n",
    "print(descr)"
   ]
  },
  {
   "cell_type": "code",
   "execution_count": 28,
   "id": "d37a80de",
   "metadata": {},
   "outputs": [
    {
     "name": "stdout",
     "output_type": "stream",
     "text": [
      "[ Nūzvīd - 8 days forecast]\n",
      "\n",
      "Day 1 (Today)\n",
      "Morning:37.7°C\n",
      "Night:29.35°C\n",
      "Conditions:Clear: clear sky\n",
      "\n",
      "Day 2 (Tomorrow)\n",
      "Morning:38.01°C\n",
      "Night:28.46°C\n",
      "Conditions:Clouds: scattered clouds\n",
      "\n",
      "Day 3\n",
      "Morning:37.18°C\n",
      "Night:27.86°C\n",
      "Conditions:Clouds: scattered clouds\n",
      "\n",
      "Day 4\n",
      "Morning:37.01°C\n",
      "Night:27.85°C\n",
      "Conditions:Clouds: few clouds\n",
      "\n",
      "Day 5\n",
      "Morning:37.15°C\n",
      "Night:28.54°C\n",
      "Conditions:Clear: clear sky\n",
      "\n",
      "Day 6\n",
      "Morning:38.79°C\n",
      "Night:29.83°C\n",
      "Conditions:Clouds: scattered clouds\n",
      "\n",
      "Day 7\n",
      "Morning:40°C\n",
      "Night:29.07°C\n",
      "Conditions:Clear: clear sky\n",
      "\n",
      "Day 8\n",
      "Morning:39.78°C\n",
      "Night:29.56°C\n",
      "Conditions:Clear: clear sky\n",
      "\n"
     ]
    }
   ],
   "source": [
    "#Let's now format the output to make it readable\n",
    "string = f'[ {name} - 8 days forecast]\\n'\n",
    "\n",
    "#Let's now loop for as much days as there available (8 in this case):\n",
    "for i in range(len(days)):\n",
    "    \n",
    "    #We want to print out the day (day1,2,3,4..)\n",
    "    #Also, day 1 = today and day 2 = tomorrow for reference\n",
    "    \n",
    "    if i == 0:\n",
    "        string += f'\\nDay {i+1} (Today)\\n'\n",
    "        \n",
    "    elif i == 1:\n",
    "        string += f'\\nDay {i+1} (Tomorrow)\\n'\n",
    "        \n",
    "    else:\n",
    "        string += f'\\nDay {i+1}\\n'\n",
    "        \n",
    "    string += 'Morning:' + str(days[i]) + '°C' + \"\\n\"\n",
    "    string += 'Night:' + str(nights[i]) + '°C' + \"\\n\"\n",
    "    string += 'Conditions:' + descr[i] + '\\n'\n",
    "    \n",
    "print(string)"
   ]
  },
  {
   "cell_type": "code",
   "execution_count": null,
   "id": "554f7bc2",
   "metadata": {},
   "outputs": [],
   "source": []
  },
  {
   "cell_type": "code",
   "execution_count": null,
   "id": "eff0ea0c",
   "metadata": {},
   "outputs": [],
   "source": []
  },
  {
   "cell_type": "code",
   "execution_count": null,
   "id": "aa27d681",
   "metadata": {},
   "outputs": [],
   "source": []
  }
 ],
 "metadata": {
  "kernelspec": {
   "display_name": "Python 3 (ipykernel)",
   "language": "python",
   "name": "python3"
  },
  "language_info": {
   "codemirror_mode": {
    "name": "ipython",
    "version": 3
   },
   "file_extension": ".py",
   "mimetype": "text/x-python",
   "name": "python",
   "nbconvert_exporter": "python",
   "pygments_lexer": "ipython3",
   "version": "3.9.10"
  }
 },
 "nbformat": 4,
 "nbformat_minor": 5
}
